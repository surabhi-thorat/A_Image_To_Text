{
 "cells": [
  {
   "cell_type": "code",
   "execution_count": null,
   "metadata": {},
   "outputs": [],
   "source": [
    "#Two library to install\n",
    "#OpenCV\n",
    "#PyTesseract\n",
    "\n",
    "#In anaconda prompt execute these commands\n",
    "#pip install opencv-python\n",
    "#pip install pytesseract\n",
    "#pip install tesseract-ocr"
   ]
  },
  {
   "cell_type": "code",
   "execution_count": 2,
   "metadata": {},
   "outputs": [],
   "source": [
    "import cv2\n",
    "import pytesseract\n"
   ]
  },
  {
   "cell_type": "code",
   "execution_count": 5,
   "metadata": {},
   "outputs": [
    {
     "name": "stdout",
     "output_type": "stream",
     "text": [
      "i( BREAKING NEWS ))\n"
     ]
    }
   ],
   "source": [
    "img=cv2.imread('news.png')\n",
    "pytesseract.pytesseract.tesseract_cmd = r'C:\\Users\\hp\\AppData\\Local\\Tesseract-OCR\\tesseract.exe'\n",
    "\n",
    "text=pytesseract.image_to_string(img)\n",
    "\n",
    "print(text)"
   ]
  },
  {
   "cell_type": "code",
   "execution_count": 8,
   "metadata": {},
   "outputs": [
    {
     "name": "stdout",
     "output_type": "stream",
     "text": [
      "IS BITCOIN\n",
      "GOING TO\n",
      "$20.000\n",
      "BY CHRISTMAS?\n"
     ]
    }
   ],
   "source": [
    "img=cv2.imread('coin.jpeg')\n",
    "pytesseract.pytesseract.tesseract_cmd = r'C:\\Users\\hp\\AppData\\Local\\Tesseract-OCR\\tesseract.exe'\n",
    "\n",
    "text=pytesseract.image_to_string(img)\n",
    "\n",
    "print(text)"
   ]
  },
  {
   "cell_type": "code",
   "execution_count": null,
   "metadata": {},
   "outputs": [],
   "source": []
  }
 ],
 "metadata": {
  "kernelspec": {
   "display_name": "Python 3",
   "language": "python",
   "name": "python3"
  },
  "language_info": {
   "codemirror_mode": {
    "name": "ipython",
    "version": 3
   },
   "file_extension": ".py",
   "mimetype": "text/x-python",
   "name": "python",
   "nbconvert_exporter": "python",
   "pygments_lexer": "ipython3",
   "version": "3.6.5"
  }
 },
 "nbformat": 4,
 "nbformat_minor": 2
}
